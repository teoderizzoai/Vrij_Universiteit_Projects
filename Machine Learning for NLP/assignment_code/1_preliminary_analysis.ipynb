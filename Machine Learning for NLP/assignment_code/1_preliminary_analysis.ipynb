{
 "cells": [
  {
   "cell_type": "code",
   "execution_count": 1,
   "metadata": {},
   "outputs": [],
   "source": [
    "import re\n",
    "from collections import Counter"
   ]
  },
  {
   "cell_type": "code",
   "execution_count": 2,
   "metadata": {},
   "outputs": [],
   "source": [
    "def is_titlecase(word):\n",
    "    \"\"\" Check if a word is titlecase. \"\"\"\n",
    "    return word.istitle()\n",
    "\n",
    "\n",
    "def is_uppercase(word):\n",
    "    \"\"\" Check if a word is uppercase. \"\"\"\n",
    "    return word.isupper()\n",
    "\n",
    "\n",
    "def is_digit(word):\n",
    "    \"\"\" Check if a word is a digit. \"\"\"\n",
    "    return word.isdigit()\n",
    "\n",
    "\n",
    "def extract_features_and_bigrams(file_path):\n",
    "    with open(file_path, 'r', encoding='utf-8') as file:\n",
    "        sentences = file.read().strip().split('\\n\\n')\n",
    "    data = []\n",
    "    bigrams_frequency = Counter()\n",
    "    for sentence in sentences:\n",
    "        words = sentence.split('\\n')\n",
    "        tokens, pos_tags = [], []\n",
    "        orthographic_features = []\n",
    "        bigrams = []\n",
    "        for word in words:\n",
    "            parts = word.split('\\t')\n",
    "            if len(parts) == 4:\n",
    "                token, pos_tag = parts[0], parts[1]\n",
    "                tokens.append(token)\n",
    "                pos_tags.append(pos_tag)\n",
    "                orthographic_features.append({\n",
    "                    'is_titlecase': is_titlecase(token),\n",
    "                    'is_uppercase': is_uppercase(token),\n",
    "                    'is_digit': is_digit(token)\n",
    "                })\n",
    "                # Building bigrams for the sentence\n",
    "                if len(tokens) > 1:\n",
    "                    bigram = (tokens[-2], token)\n",
    "                    bigrams.append(bigram)\n",
    "                    bigrams_frequency[bigram] += 1\n",
    "        # Append the processed sentence to the data\n",
    "        data.append({\n",
    "            'tokens': tokens,\n",
    "            'pos_tags': pos_tags,\n",
    "            'orthographic_features': orthographic_features,\n",
    "            'bigrams': bigrams\n",
    "        })\n",
    "    return data, bigrams_frequency"
   ]
  },
  {
   "cell_type": "code",
   "execution_count": 3,
   "metadata": {},
   "outputs": [],
   "source": [
    "# Extract features and bigrams from the file\n",
    "file_path = 'data/conll2003.train.conll'\n",
    "data, bigrams_frequency = extract_features_and_bigrams(file_path)"
   ]
  },
  {
   "cell_type": "code",
   "execution_count": 7,
   "metadata": {},
   "outputs": [
    {
     "data": {
      "text/plain": [
       "([{'tokens': ['EU',\n",
       "    'rejects',\n",
       "    'German',\n",
       "    'call',\n",
       "    'to',\n",
       "    'boycott',\n",
       "    'British',\n",
       "    'lamb',\n",
       "    '.'],\n",
       "   'pos_tags': ['NNP', 'VBZ', 'JJ', 'NN', 'TO', 'VB', 'JJ', 'NN', '.'],\n",
       "   'orthographic_features': [{'is_titlecase': False,\n",
       "     'is_uppercase': True,\n",
       "     'is_digit': False},\n",
       "    {'is_titlecase': False, 'is_uppercase': False, 'is_digit': False},\n",
       "    {'is_titlecase': True, 'is_uppercase': False, 'is_digit': False},\n",
       "    {'is_titlecase': False, 'is_uppercase': False, 'is_digit': False},\n",
       "    {'is_titlecase': False, 'is_uppercase': False, 'is_digit': False},\n",
       "    {'is_titlecase': False, 'is_uppercase': False, 'is_digit': False},\n",
       "    {'is_titlecase': True, 'is_uppercase': False, 'is_digit': False},\n",
       "    {'is_titlecase': False, 'is_uppercase': False, 'is_digit': False},\n",
       "    {'is_titlecase': False, 'is_uppercase': False, 'is_digit': False}],\n",
       "   'bigrams': [('EU', 'rejects'),\n",
       "    ('rejects', 'German'),\n",
       "    ('German', 'call'),\n",
       "    ('call', 'to'),\n",
       "    ('to', 'boycott'),\n",
       "    ('boycott', 'British'),\n",
       "    ('British', 'lamb'),\n",
       "    ('lamb', '.')]},\n",
       "  {'tokens': ['Peter', 'Blackburn'],\n",
       "   'pos_tags': ['NNP', 'NNP'],\n",
       "   'orthographic_features': [{'is_titlecase': True,\n",
       "     'is_uppercase': False,\n",
       "     'is_digit': False},\n",
       "    {'is_titlecase': True, 'is_uppercase': False, 'is_digit': False}],\n",
       "   'bigrams': [('Peter', 'Blackburn')]}],\n",
       " [(('in', 'the'), 948),\n",
       "  (('of', 'the'), 942),\n",
       "  ((',', '\"'), 626),\n",
       "  (('said', '.'), 556),\n",
       "  (('.', '\"'), 395)])"
      ]
     },
     "execution_count": 7,
     "metadata": {},
     "output_type": "execute_result"
    }
   ],
   "source": [
    "# Showing a sample from the processed data\n",
    "data_sample = data[:2]  # First two sentences for sample\n",
    "data_sample, bigrams_frequency.most_common(5)  # Showing 5 most common bigrams\n",
    "\n",
    "#print(bigrams_frequency.most_common(5))"
   ]
  }
 ],
 "metadata": {
  "kernelspec": {
   "display_name": "Python 3",
   "language": "python",
   "name": "python3"
  },
  "language_info": {
   "codemirror_mode": {
    "name": "ipython",
    "version": 3
   },
   "file_extension": ".py",
   "mimetype": "text/x-python",
   "name": "python",
   "nbconvert_exporter": "python",
   "pygments_lexer": "ipython3",
   "version": "3.11.7"
  }
 },
 "nbformat": 4,
 "nbformat_minor": 2
}
