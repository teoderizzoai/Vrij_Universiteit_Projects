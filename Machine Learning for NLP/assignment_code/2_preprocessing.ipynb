{
 "cells": [
  {
   "cell_type": "code",
   "execution_count": 22,
   "metadata": {},
   "outputs": [
    {
     "data": {
      "text/plain": [
       "<spacy.lang.en.English at 0x28324a4efd0>"
      ]
     },
     "execution_count": 22,
     "metadata": {},
     "output_type": "execute_result"
    }
   ],
   "source": [
    "import spacy\n",
    "import csv\n",
    "import random\n",
    "spacy.load('en_core_web_sm')"
   ]
  },
  {
   "cell_type": "code",
   "execution_count": 19,
   "metadata": {},
   "outputs": [],
   "source": [
    "# Load spaCy model for lemmatization\n",
    "nlp = spacy.load('en_core_web_sm', disable=['parser', 'ner'])"
   ]
  },
  {
   "cell_type": "code",
   "execution_count": 20,
   "metadata": {},
   "outputs": [],
   "source": [
    "def word_shape(word):\n",
    "    shape = ''\n",
    "    for char in word:\n",
    "        if char.isupper():\n",
    "            shape += 'X'\n",
    "        elif char.islower():\n",
    "            shape += 'x'\n",
    "        elif char.isdigit():\n",
    "            shape += 'd'\n",
    "        else:\n",
    "            shape += char\n",
    "    return shape\n",
    "\n",
    "def is_nan(value):\n",
    "    return value == '' or value.lower() == 'nan'\n",
    "\n",
    "def balance_classes(input_file, threshold=None):\n",
    "    class_counts = {'B-ORG': 0, 'O': 0, 'B-MISC': 0, 'B-PER': 0, 'I-PER': 0, \n",
    "                    'B-LOC': 0, 'I-ORG': 0, 'I-MISC': 0, 'I-LOC': 0}\n",
    "\n",
    "    with open(input_file, 'r', encoding='utf-8') as file:\n",
    "        reader = csv.reader(file, delimiter='\\t')\n",
    "        for row in reader:\n",
    "            if row:\n",
    "                label = row[-1]\n",
    "                class_counts[label] += 1\n",
    "\n",
    "    if not threshold:\n",
    "        threshold = sum(class_counts.values()) // len(class_counts)\n",
    "\n",
    "    selected_rows = []\n",
    "    with open(input_file, 'r', encoding='utf-8') as file:\n",
    "        reader = csv.reader(file, delimiter='\\t')\n",
    "\n",
    "        for row in reader:\n",
    "            if row:\n",
    "                label = row[-1]\n",
    "                if class_counts[label] < threshold:\n",
    "                    selected_rows.append(row)\n",
    "                    class_counts[label] += 1\n",
    "                elif label == 'O' and random.random() < (threshold / class_counts[label]):\n",
    "                    selected_rows.append(row)\n",
    "                    class_counts[label] += 1\n",
    "\n",
    "    return selected_rows\n",
    "\n",
    "def process_file(input_file, output_file, max_output_columns):\n",
    "    balanced_rows = balance_classes(input_file)\n",
    "\n",
    "    with open(output_file, 'w', newline='', encoding='utf-8') as outfile:\n",
    "        writer = csv.writer(outfile, delimiter='\\t')\n",
    "\n",
    "        prev_word = 'START'\n",
    "        next_word = None\n",
    "        buffer = []\n",
    "\n",
    "        for row in balanced_rows:\n",
    "            if not row:\n",
    "                prev_word = 'START'\n",
    "                buffer = []\n",
    "                continue\n",
    "\n",
    "            if len(buffer) == 0 or is_nan(row[0]):\n",
    "                buffer.append(row)\n",
    "                continue\n",
    "\n",
    "            next_word = row[0] if not is_nan(row[0]) else 'NaN'\n",
    "\n",
    "            current_word = buffer[-1][0]\n",
    "            if not is_nan(current_word):\n",
    "                doc = nlp(current_word)\n",
    "                lemma = doc[0].lemma_ if doc else 'NaN'\n",
    "                capitalization = current_word[0].isupper() if current_word else False\n",
    "                word_shape_feature = word_shape(current_word) if current_word else 'NaN'\n",
    "                word_length = len(current_word) if current_word else 0\n",
    "\n",
    "                features = [\n",
    "                    current_word,  # Original word\n",
    "                    prev_word,  # Previous word\n",
    "                    next_word,  # Next word\n",
    "                    lemma,  # Lemma\n",
    "                    str(capitalization),  # Capitalization\n",
    "                    word_shape_feature,  # Word shape\n",
    "                    str(word_length)  # Word length\n",
    "                ]\n",
    "            else:\n",
    "                features = ['NaN'] * 7\n",
    "\n",
    "            extra_columns = buffer[-1][1:]\n",
    "            total_columns = features + extra_columns\n",
    "            total_columns = (total_columns[:max_output_columns] +\n",
    "                             [''] * (max_output_columns - len(total_columns)))\n",
    "\n",
    "            writer.writerow(total_columns)\n",
    "\n",
    "            prev_word = current_word if not is_nan(current_word) else 'NaN'\n",
    "            buffer.append(row)"
   ]
  },
  {
   "cell_type": "code",
   "execution_count": 24,
   "metadata": {},
   "outputs": [],
   "source": [
    "input_file_path = 'data/conll2003.dev.conll'\n",
    "output_file_path = 'data/pre.conll2003.dev.conll'\n",
    "max_output_columns = 10  # Define your constant number of output columns here\n",
    "\n",
    "process_file(input_file_path, output_file_path, max_output_columns)"
   ]
  },
  {
   "cell_type": "code",
   "execution_count": 17,
   "metadata": {},
   "outputs": [],
   "source": [
    "\n",
    "input_file_path = 'data/conll2003.train.conll'\n",
    "output_file_path = 'data/pre.conll2003.train.conll'\n",
    "max_output_columns = 10  # Define your constant number of output columns here\n",
    "\n",
    "process_file(input_file_path, output_file_path, max_output_columns)"
   ]
  }
 ],
 "metadata": {
  "kernelspec": {
   "display_name": "Python 3",
   "language": "python",
   "name": "python3"
  },
  "language_info": {
   "codemirror_mode": {
    "name": "ipython",
    "version": 3
   },
   "file_extension": ".py",
   "mimetype": "text/x-python",
   "name": "python",
   "nbconvert_exporter": "python",
   "pygments_lexer": "ipython3",
   "version": "3.11.7"
  }
 },
 "nbformat": 4,
 "nbformat_minor": 2
}
